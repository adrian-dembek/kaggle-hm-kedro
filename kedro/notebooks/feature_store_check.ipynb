{
 "cells": [
  {
   "cell_type": "code",
   "execution_count": 2,
   "id": "2beaa592",
   "metadata": {},
   "outputs": [],
   "source": [
    "import pandas as pd"
   ]
  },
  {
   "cell_type": "code",
   "execution_count": 3,
   "id": "b9660555",
   "metadata": {},
   "outputs": [],
   "source": [
    "articles_fs = pd.read_parquet('../data/04_feature/articles_fs.parquet')\n",
    "customers_fs = pd.read_parquet('../data/04_feature/customers_fs.parquet')"
   ]
  },
  {
   "cell_type": "code",
   "execution_count": null,
   "id": "e0b6e4f0",
   "metadata": {},
   "outputs": [],
   "source": [
    "articles_fs.head()"
   ]
  },
  {
   "cell_type": "code",
   "execution_count": null,
   "id": "20b9ae1e",
   "metadata": {},
   "outputs": [],
   "source": [
    "articles_fs.mean()"
   ]
  },
  {
   "cell_type": "code",
   "execution_count": null,
   "id": "ac417758",
   "metadata": {},
   "outputs": [],
   "source": [
    "customers_fs.head()"
   ]
  },
  {
   "cell_type": "code",
   "execution_count": null,
   "id": "deb35098",
   "metadata": {},
   "outputs": [],
   "source": [
    "customers_fs.mean()"
   ]
  },
  {
   "cell_type": "markdown",
   "id": "d6adbea3",
   "metadata": {},
   "source": [
    "# Feature store generated with extend_customer_fs env"
   ]
  },
  {
   "cell_type": "code",
   "execution_count": 3,
   "id": "8fe697da",
   "metadata": {},
   "outputs": [],
   "source": [
    "customers_fs_extended = pd.read_parquet('../data/04_feature/customers_fs_extended.parquet')"
   ]
  },
  {
   "cell_type": "code",
   "execution_count": null,
   "id": "927e202a",
   "metadata": {},
   "outputs": [],
   "source": [
    "customers_fs_extended.head()"
   ]
  },
  {
   "cell_type": "markdown",
   "id": "ed59e8e8",
   "metadata": {},
   "source": [
    "### number of columns increased from 47 to 132"
   ]
  },
  {
   "cell_type": "code",
   "execution_count": null,
   "id": "87f1b0ee",
   "metadata": {},
   "outputs": [],
   "source": [
    "pd.set_option('display.max_rows', 500)\n",
    "customer_fs_extended_report = pd.DataFrame(customers_fs_extended.groupby('time').mean())\n",
    "customer_fs_extended_report"
   ]
  },
  {
   "cell_type": "code",
   "execution_count": null,
   "id": "12266045",
   "metadata": {},
   "outputs": [],
   "source": [
    "import numpy as np\n",
    "test = customer_fs_extended_report.T\n",
    "test['ratio'] = test.apply(lambda x: x['2020-09-22']/x['2019-09-22'] if x['2019-09-22']!=0 else np.nan, axis=1)\n",
    "test.sort_values('ratio', ascending=False)"
   ]
  },
  {
   "cell_type": "code",
   "execution_count": null,
   "id": "5f66f3db",
   "metadata": {},
   "outputs": [],
   "source": [
    "customer_fs_extended_report[['COUNT(transactions WHERE articles.index_group_name = Sport)_2W', 'COUNT(transactions WHERE articles.product_type_name = Sweater)_6M']].T.plot(kind='barh', figsize=[7,7])"
   ]
  },
  {
   "cell_type": "code",
   "execution_count": null,
   "id": "6132b7df",
   "metadata": {},
   "outputs": [],
   "source": []
  }
 ],
 "metadata": {
  "kernelspec": {
   "display_name": "Python 3",
   "language": "python",
   "name": "python3"
  },
  "language_info": {
   "codemirror_mode": {
    "name": "ipython",
    "version": 3
   },
   "file_extension": ".py",
   "mimetype": "text/x-python",
   "name": "python",
   "nbconvert_exporter": "python",
   "pygments_lexer": "ipython3",
   "version": "3.8.8"
  }
 },
 "nbformat": 4,
 "nbformat_minor": 5
}
