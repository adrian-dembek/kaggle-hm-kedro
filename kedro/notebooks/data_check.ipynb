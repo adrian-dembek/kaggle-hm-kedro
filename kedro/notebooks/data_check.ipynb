{
 "cells": [
  {
   "cell_type": "code",
   "execution_count": 1,
   "id": "fcdb7bac",
   "metadata": {},
   "outputs": [],
   "source": [
    "import pandas as pd"
   ]
  },
  {
   "cell_type": "markdown",
   "id": "de6c8477",
   "metadata": {},
   "source": [
    "# SAMPLED DATA"
   ]
  },
  {
   "cell_type": "code",
   "execution_count": 4,
   "id": "97197651",
   "metadata": {},
   "outputs": [],
   "source": [
    "articles = pd.read_parquet('../data/02_intermediate/articles.parquet')\n",
    "customers = pd.read_parquet('../data/02_intermediate/sampled_customers_s001.parquet')\n",
    "transactions = pd.read_parquet('../data/02_intermediate/transactions_train_sampled_customers_s001.parquet')"
   ]
  },
  {
   "cell_type": "code",
   "execution_count": null,
   "id": "7d44962d",
   "metadata": {},
   "outputs": [],
   "source": [
    "articles.head(3)"
   ]
  },
  {
   "cell_type": "code",
   "execution_count": null,
   "id": "e066daef",
   "metadata": {},
   "outputs": [],
   "source": [
    "customers.head(3)"
   ]
  },
  {
   "cell_type": "code",
   "execution_count": null,
   "id": "d85ab787",
   "metadata": {},
   "outputs": [],
   "source": [
    "transactions.head(3)"
   ]
  },
  {
   "cell_type": "markdown",
   "id": "a785fac0",
   "metadata": {},
   "source": [
    "# CLEANED DATA"
   ]
  },
  {
   "cell_type": "code",
   "execution_count": 9,
   "id": "a1041d54",
   "metadata": {},
   "outputs": [],
   "source": [
    "articles = pd.read_parquet('../data/03_primary/articles_cleaned.parquet')\n",
    "customers = pd.read_parquet('../data/03_primary/customers_cleaned.parquet')\n",
    "transactions = pd.read_parquet('../data/03_primary/transactions_cleaned.parquet')\n",
    "baskets = pd.read_parquet('../data/03_primary/baskets_cleaned.parquet')"
   ]
  },
  {
   "cell_type": "code",
   "execution_count": 10,
   "id": "a8454050",
   "metadata": {},
   "outputs": [
    {
     "data": {
      "text/html": [
       "<div>\n",
       "<style scoped>\n",
       "    .dataframe tbody tr th:only-of-type {\n",
       "        vertical-align: middle;\n",
       "    }\n",
       "\n",
       "    .dataframe tbody tr th {\n",
       "        vertical-align: top;\n",
       "    }\n",
       "\n",
       "    .dataframe thead th {\n",
       "        text-align: right;\n",
       "    }\n",
       "</style>\n",
       "<table border=\"1\" class=\"dataframe\">\n",
       "  <thead>\n",
       "    <tr style=\"text-align: right;\">\n",
       "      <th></th>\n",
       "      <th>article_id</th>\n",
       "      <th>product_code</th>\n",
       "      <th>prod_name</th>\n",
       "      <th>product_type_name</th>\n",
       "      <th>product_group_name</th>\n",
       "      <th>graphical_appearance_name</th>\n",
       "      <th>colour_group_name</th>\n",
       "      <th>perceived_colour_value_name</th>\n",
       "      <th>perceived_colour_master_name</th>\n",
       "      <th>department_name</th>\n",
       "      <th>index_name</th>\n",
       "      <th>index_group_name</th>\n",
       "      <th>section_name</th>\n",
       "      <th>garment_group_name</th>\n",
       "      <th>detail_desc</th>\n",
       "    </tr>\n",
       "  </thead>\n",
       "  <tbody>\n",
       "    <tr>\n",
       "      <th>83828</th>\n",
       "      <td>0813504016</td>\n",
       "      <td>0813504</td>\n",
       "      <td>TP NORTON price LS</td>\n",
       "      <td>Top</td>\n",
       "      <td>Garment Upper body</td>\n",
       "      <td>Stripe</td>\n",
       "      <td>Red</td>\n",
       "      <td>Bright</td>\n",
       "      <td>Red</td>\n",
       "      <td>Kids Boy Jersey Basic</td>\n",
       "      <td>Children Sizes 92-140</td>\n",
       "      <td>Baby/Children</td>\n",
       "      <td>Boys Underwear &amp; Basics</td>\n",
       "      <td>Jersey Basic</td>\n",
       "      <td>Long-sleeved top in soft, organic cotton jerse...</td>\n",
       "    </tr>\n",
       "    <tr>\n",
       "      <th>96099</th>\n",
       "      <td>0869035001</td>\n",
       "      <td>0869035</td>\n",
       "      <td>HAPPY TEE DEAL 2-p</td>\n",
       "      <td>T-shirt</td>\n",
       "      <td>Garment Upper body</td>\n",
       "      <td>Front print</td>\n",
       "      <td>White</td>\n",
       "      <td>Light</td>\n",
       "      <td>White</td>\n",
       "      <td>Kids Boy Jersey Fancy</td>\n",
       "      <td>Children Sizes 92-140</td>\n",
       "      <td>Baby/Children</td>\n",
       "      <td>Kids Boy</td>\n",
       "      <td>Jersey Fancy</td>\n",
       "      <td>Classic T-shirts in soft, printed cotton jerse...</td>\n",
       "    </tr>\n",
       "    <tr>\n",
       "      <th>31030</th>\n",
       "      <td>0630709001</td>\n",
       "      <td>0630709</td>\n",
       "      <td>Crista Dress S/S</td>\n",
       "      <td>Dress</td>\n",
       "      <td>Garment Full body</td>\n",
       "      <td>Glittering/Metallic</td>\n",
       "      <td>Light Pink</td>\n",
       "      <td>Dusty Light</td>\n",
       "      <td>Pink</td>\n",
       "      <td>Baby Girl Jersey Fancy</td>\n",
       "      <td>Baby Sizes 50-98</td>\n",
       "      <td>Baby/Children</td>\n",
       "      <td>Baby Girl</td>\n",
       "      <td>Jersey Fancy</td>\n",
       "      <td>Dress in soft cotton jersey with a shimmering,...</td>\n",
       "    </tr>\n",
       "  </tbody>\n",
       "</table>\n",
       "</div>"
      ],
      "text/plain": [
       "       article_id product_code           prod_name product_type_name  \\\n",
       "83828  0813504016      0813504  TP NORTON price LS               Top   \n",
       "96099  0869035001      0869035  HAPPY TEE DEAL 2-p           T-shirt   \n",
       "31030  0630709001      0630709    Crista Dress S/S             Dress   \n",
       "\n",
       "       product_group_name graphical_appearance_name colour_group_name  \\\n",
       "83828  Garment Upper body                    Stripe               Red   \n",
       "96099  Garment Upper body               Front print             White   \n",
       "31030   Garment Full body       Glittering/Metallic        Light Pink   \n",
       "\n",
       "      perceived_colour_value_name perceived_colour_master_name  \\\n",
       "83828                      Bright                          Red   \n",
       "96099                       Light                        White   \n",
       "31030                 Dusty Light                         Pink   \n",
       "\n",
       "              department_name             index_name index_group_name  \\\n",
       "83828   Kids Boy Jersey Basic  Children Sizes 92-140    Baby/Children   \n",
       "96099   Kids Boy Jersey Fancy  Children Sizes 92-140    Baby/Children   \n",
       "31030  Baby Girl Jersey Fancy       Baby Sizes 50-98    Baby/Children   \n",
       "\n",
       "                  section_name garment_group_name  \\\n",
       "83828  Boys Underwear & Basics       Jersey Basic   \n",
       "96099                 Kids Boy       Jersey Fancy   \n",
       "31030                Baby Girl       Jersey Fancy   \n",
       "\n",
       "                                             detail_desc  \n",
       "83828  Long-sleeved top in soft, organic cotton jerse...  \n",
       "96099  Classic T-shirts in soft, printed cotton jerse...  \n",
       "31030  Dress in soft cotton jersey with a shimmering,...  "
      ]
     },
     "execution_count": 10,
     "metadata": {},
     "output_type": "execute_result"
    }
   ],
   "source": [
    "articles.head(3)"
   ]
  },
  {
   "cell_type": "code",
   "execution_count": null,
   "id": "55d175b0",
   "metadata": {},
   "outputs": [],
   "source": [
    "customers.head(3)"
   ]
  },
  {
   "cell_type": "code",
   "execution_count": null,
   "id": "3fc52b01",
   "metadata": {},
   "outputs": [],
   "source": [
    "transactions.head(3)"
   ]
  },
  {
   "cell_type": "code",
   "execution_count": null,
   "id": "451e55fb",
   "metadata": {},
   "outputs": [],
   "source": [
    "baskets.head(3)"
   ]
  },
  {
   "cell_type": "code",
   "execution_count": null,
   "id": "755dd66b",
   "metadata": {},
   "outputs": [],
   "source": []
  }
 ],
 "metadata": {
  "kernelspec": {
   "display_name": "Python 3 (ipykernel)",
   "language": "python",
   "name": "python3"
  },
  "language_info": {
   "codemirror_mode": {
    "name": "ipython",
    "version": 3
   },
   "file_extension": ".py",
   "mimetype": "text/x-python",
   "name": "python",
   "nbconvert_exporter": "python",
   "pygments_lexer": "ipython3",
   "version": "3.9.12"
  }
 },
 "nbformat": 4,
 "nbformat_minor": 5
}
